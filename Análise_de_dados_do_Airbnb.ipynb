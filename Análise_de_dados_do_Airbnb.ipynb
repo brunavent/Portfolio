{
  "nbformat": 4,
  "nbformat_minor": 0,
  "metadata": {
    "colab": {
      "name": "Análise de dados do Airbnb.ipynb",
      "provenance": [],
      "authorship_tag": "ABX9TyP0IdDiZ7aYgQoZuXWtkPJz",
      "include_colab_link": true
    },
    "kernelspec": {
      "name": "python3",
      "display_name": "Python 3"
    },
    "language_info": {
      "name": "python"
    }
  },
  "cells": [
    {
      "cell_type": "markdown",
      "metadata": {
        "id": "view-in-github",
        "colab_type": "text"
      },
      "source": [
        "<a href=\"https://colab.research.google.com/github/brunavent/portfolio/blob/master/An%C3%A1lise_de_dados_do_Airbnb.ipynb\" target=\"_parent\"><img src=\"https://colab.research.google.com/assets/colab-badge.svg\" alt=\"Open In Colab\"/></a>"
      ]
    },
    {
      "cell_type": "markdown",
      "metadata": {
        "id": "wOuzvuo9NkGT"
      },
      "source": [
        "# **Análise dos Dados do Airbnb - `Paris`**"
      ]
    },
    {
      "cell_type": "markdown",
      "metadata": {
        "id": "K0seofaDa9Lk"
      },
      "source": [
        "[Airbnb](https://www.airbnb.com.br/) é a sigla da expressão em inglês *airbed and breakfast*, cuja tradução em português, ao pé da letra, é “**colchão de ar e café da manhã”**. Também é o nome do site que atua como um espaço virtual em que as pessoas alugam a própria residência para desconhecidos – sem ser uma imobiliária.\n",
        "\n",
        "\n",
        "Para algumas pessoas, pode soar estranho alugar a própria casa, sair para trabalhar, viajar e deixá-la com desconhecidos, mas os criadores do site *Airbnb*, baseados na experiência de terem alugado o próprio sofá da sala e partilharem o uso de sua cozinha, e com sucesso, investiram, sem muitas pretensões, em um mercado que acabou por crescer dia a dia e, depois de oito anos, o Airbnb, disponível também em aplicativo para smartphone, espalhou-por 190 países, cujos usuários passam de 60 milhões de pessoas.\n",
        "\n",
        "Nesse projeto teremos dados tirados do portal [Inside Airbnb](http://insideairbnb.com/get-the-data.html), disponibilizado pelo próprio Airbnb."
      ]
    },
    {
      "cell_type": "markdown",
      "metadata": {
        "id": "tJZIL4pqdfIH"
      },
      "source": [
        "## **Aquisição dos Dados Necessários**"
      ]
    },
    {
      "cell_type": "markdown",
      "metadata": {
        "id": "PZQ6pQUJdndD"
      },
      "source": [
        "Nesse projeto teremos como base os dados diponibilizados pelo site [Inside Airbnb](http://insideairbnb.com/get-the-data.html), sendo possível analisar dados de várias cidades ao redor do mundo.\n",
        "\n",
        "O arquivo base dessa análise inicial será o `listings.csv` da cidade de Paris na França."
      ]
    },
    {
      "cell_type": "code",
      "metadata": {
        "id": "Z0iM4-BUMCHV"
      },
      "source": [
        "# importando os pacotes necessários\n",
        "import pandas as pd\n",
        "import matplotlib.pyplot as plt\n",
        "import seaborn as sns\n",
        "\n",
        "%matplotlib inline"
      ],
      "execution_count": 31,
      "outputs": []
    },
    {
      "cell_type": "code",
      "metadata": {
        "id": "NaaGFy-PMJY_"
      },
      "source": [
        "# importando o arquivo csv para um DataFrame\n",
        "df = pd.read_csv(\"http://data.insideairbnb.com/france/ile-de-france/paris/2021-07-06/visualisations/listings.csv\")"
      ],
      "execution_count": 32,
      "outputs": []
    },
    {
      "cell_type": "markdown",
      "metadata": {
        "id": "udb0D8raebKw"
      },
      "source": [
        "## **Analisando os Dados**\n",
        "\n",
        "\n",
        "**Dicionário das variáveis**\n",
        "\n",
        "* `id` - número de id gerado para identificar o imóvel\n",
        "* `name` - nome da propriedade anunciada\n",
        "* `host_id` - número de id do proprietário (anfitrião) da propriedade\n",
        "* `host_name` - Nome do anfitrião\n",
        "* `neighbourhood_group` - esta coluna não contém nenhum valor válido\n",
        "* `neighbourhood` - nome do bairro\n",
        "* `latitude` - coordenada da latitude da propriedade\n",
        "* `longitude` - coordenada da longitude da propriedade\n",
        "* `room_type` - informa o tipo de quarto que é oferecido\n",
        "* `price` - preço para alugar o imóvel\n",
        "* `minimum_nights` - quantidade mínima de noites para reservar\n",
        "* `number_of_reviews` - número de reviews que a propriedade possui\n",
        "* `last_review` - data do último review\n",
        "* `reviews_per_month` - quantidade de reviews por mês\n",
        "* `calculated_host_listings_count` - quantidade de imóveis do mesmo anfitrião\n",
        "* `availability_365` - número de dias de disponibilidade dentro de 365 dias\n"
      ]
    },
    {
      "cell_type": "code",
      "metadata": {
        "colab": {
          "base_uri": "https://localhost:8080/",
          "height": 425
        },
        "id": "INH42Hj_MNRr",
        "outputId": "47a3928f-a261-4d41-c73e-5d0ded73def9"
      },
      "source": [
        "df.head()"
      ],
      "execution_count": 33,
      "outputs": [
        {
          "output_type": "execute_result",
          "data": {
            "text/html": [
              "<div>\n",
              "<style scoped>\n",
              "    .dataframe tbody tr th:only-of-type {\n",
              "        vertical-align: middle;\n",
              "    }\n",
              "\n",
              "    .dataframe tbody tr th {\n",
              "        vertical-align: top;\n",
              "    }\n",
              "\n",
              "    .dataframe thead th {\n",
              "        text-align: right;\n",
              "    }\n",
              "</style>\n",
              "<table border=\"1\" class=\"dataframe\">\n",
              "  <thead>\n",
              "    <tr style=\"text-align: right;\">\n",
              "      <th></th>\n",
              "      <th>id</th>\n",
              "      <th>name</th>\n",
              "      <th>host_id</th>\n",
              "      <th>host_name</th>\n",
              "      <th>neighbourhood_group</th>\n",
              "      <th>neighbourhood</th>\n",
              "      <th>latitude</th>\n",
              "      <th>longitude</th>\n",
              "      <th>room_type</th>\n",
              "      <th>price</th>\n",
              "      <th>minimum_nights</th>\n",
              "      <th>number_of_reviews</th>\n",
              "      <th>last_review</th>\n",
              "      <th>reviews_per_month</th>\n",
              "      <th>calculated_host_listings_count</th>\n",
              "      <th>availability_365</th>\n",
              "    </tr>\n",
              "  </thead>\n",
              "  <tbody>\n",
              "    <tr>\n",
              "      <th>0</th>\n",
              "      <td>2577</td>\n",
              "      <td>Loft for 4 by Canal Saint Martin</td>\n",
              "      <td>2827</td>\n",
              "      <td>Karine</td>\n",
              "      <td>NaN</td>\n",
              "      <td>Entrepôt</td>\n",
              "      <td>48.86957</td>\n",
              "      <td>2.36127</td>\n",
              "      <td>Entire home/apt</td>\n",
              "      <td>125</td>\n",
              "      <td>3</td>\n",
              "      <td>1</td>\n",
              "      <td>2019-01-02</td>\n",
              "      <td>0.03</td>\n",
              "      <td>1</td>\n",
              "      <td>364</td>\n",
              "    </tr>\n",
              "    <tr>\n",
              "      <th>1</th>\n",
              "      <td>5396</td>\n",
              "      <td>Explore the heart of old Paris</td>\n",
              "      <td>7903</td>\n",
              "      <td>Borzou</td>\n",
              "      <td>NaN</td>\n",
              "      <td>Hôtel-de-Ville</td>\n",
              "      <td>48.85247</td>\n",
              "      <td>2.35835</td>\n",
              "      <td>Entire home/apt</td>\n",
              "      <td>64</td>\n",
              "      <td>1</td>\n",
              "      <td>250</td>\n",
              "      <td>2020-08-08</td>\n",
              "      <td>2.63</td>\n",
              "      <td>1</td>\n",
              "      <td>23</td>\n",
              "    </tr>\n",
              "    <tr>\n",
              "      <th>2</th>\n",
              "      <td>7397</td>\n",
              "      <td>MARAIS - 2ROOMS APT - 2/4 PEOPLE</td>\n",
              "      <td>2626</td>\n",
              "      <td>Franck</td>\n",
              "      <td>NaN</td>\n",
              "      <td>Hôtel-de-Ville</td>\n",
              "      <td>48.85909</td>\n",
              "      <td>2.35315</td>\n",
              "      <td>Entire home/apt</td>\n",
              "      <td>93</td>\n",
              "      <td>9</td>\n",
              "      <td>273</td>\n",
              "      <td>2020-02-26</td>\n",
              "      <td>2.26</td>\n",
              "      <td>2</td>\n",
              "      <td>209</td>\n",
              "    </tr>\n",
              "    <tr>\n",
              "      <th>3</th>\n",
              "      <td>7964</td>\n",
              "      <td>Large &amp; sunny flat with balcony !</td>\n",
              "      <td>22155</td>\n",
              "      <td>Anaïs</td>\n",
              "      <td>NaN</td>\n",
              "      <td>Opéra</td>\n",
              "      <td>48.87417</td>\n",
              "      <td>2.34245</td>\n",
              "      <td>Entire home/apt</td>\n",
              "      <td>130</td>\n",
              "      <td>6</td>\n",
              "      <td>6</td>\n",
              "      <td>2015-09-14</td>\n",
              "      <td>0.07</td>\n",
              "      <td>1</td>\n",
              "      <td>352</td>\n",
              "    </tr>\n",
              "    <tr>\n",
              "      <th>4</th>\n",
              "      <td>9359</td>\n",
              "      <td>Cozy, Central Paris: WALK or VELIB EVERYWHERE !</td>\n",
              "      <td>28422</td>\n",
              "      <td>Bernadette</td>\n",
              "      <td>NaN</td>\n",
              "      <td>Louvre</td>\n",
              "      <td>48.86006</td>\n",
              "      <td>2.34863</td>\n",
              "      <td>Entire home/apt</td>\n",
              "      <td>75</td>\n",
              "      <td>180</td>\n",
              "      <td>0</td>\n",
              "      <td>NaN</td>\n",
              "      <td>NaN</td>\n",
              "      <td>1</td>\n",
              "      <td>358</td>\n",
              "    </tr>\n",
              "  </tbody>\n",
              "</table>\n",
              "</div>"
            ],
            "text/plain": [
              "     id  ... availability_365\n",
              "0  2577  ...              364\n",
              "1  5396  ...               23\n",
              "2  7397  ...              209\n",
              "3  7964  ...              352\n",
              "4  9359  ...              358\n",
              "\n",
              "[5 rows x 16 columns]"
            ]
          },
          "metadata": {
            "tags": []
          },
          "execution_count": 33
        }
      ]
    },
    {
      "cell_type": "markdown",
      "metadata": {
        "id": "-Z7ipYJCgESh"
      },
      "source": [
        "Na célula acima verificamos as 5 primeiras entradas do nosso *dataset*."
      ]
    },
    {
      "cell_type": "markdown",
      "metadata": {
        "id": "NxmKieskgZL1"
      },
      "source": [
        "### **Q1. Quantos atributos (variáveis) e quantas entradas o nosso conjunto de dados possui? Quais os tipos das variáveis?**\n",
        "\n",
        "Nessa etapa iremos identificar quantas entradas nosso conjunto possui e ver os tipos de cada uma."
      ]
    },
    {
      "cell_type": "code",
      "metadata": {
        "colab": {
          "base_uri": "https://localhost:8080/",
          "height": 336
        },
        "id": "d9L-z70ChCLD",
        "outputId": "a3fe65b9-81e0-4786-c06d-367147f20529"
      },
      "source": [
        "print(\"Entradas:\\t{}\".format(df.shape[0]))\n",
        "print(\"Variáveis:\\t{}\".format(df.shape[1]))\n",
        "\n",
        "# analisando as 5 peimrias entradas do dataset\n",
        "display(df.dtypes)"
      ],
      "execution_count": 34,
      "outputs": [
        {
          "output_type": "stream",
          "text": [
            "Entradas:\t51040\n",
            "Variáveis:\t16\n"
          ],
          "name": "stdout"
        },
        {
          "output_type": "display_data",
          "data": {
            "text/plain": [
              "id                                  int64\n",
              "name                               object\n",
              "host_id                             int64\n",
              "host_name                          object\n",
              "neighbourhood_group               float64\n",
              "neighbourhood                      object\n",
              "latitude                          float64\n",
              "longitude                         float64\n",
              "room_type                          object\n",
              "price                               int64\n",
              "minimum_nights                      int64\n",
              "number_of_reviews                   int64\n",
              "last_review                        object\n",
              "reviews_per_month                 float64\n",
              "calculated_host_listings_count      int64\n",
              "availability_365                    int64\n",
              "dtype: object"
            ]
          },
          "metadata": {
            "tags": []
          }
        }
      ]
    },
    {
      "cell_type": "markdown",
      "metadata": {
        "id": "6_w3dt7zhdMF"
      },
      "source": [
        "### **Q2. Qual a porcentagem de valores ausentes no *dataset*?**\n",
        "\n",
        "\n"
      ]
    },
    {
      "cell_type": "code",
      "metadata": {
        "colab": {
          "base_uri": "https://localhost:8080/"
        },
        "id": "uOxPGcm2iHOP",
        "outputId": "8faaf18b-8338-4465-c6f3-edbecf20e17c"
      },
      "source": [
        "(df.isnull().sum() / df.shape[0]).sort_values(ascending=False)"
      ],
      "execution_count": 35,
      "outputs": [
        {
          "output_type": "execute_result",
          "data": {
            "text/plain": [
              "neighbourhood_group               1.000000\n",
              "reviews_per_month                 0.243358\n",
              "last_review                       0.243358\n",
              "host_name                         0.001587\n",
              "name                              0.000960\n",
              "availability_365                  0.000000\n",
              "calculated_host_listings_count    0.000000\n",
              "number_of_reviews                 0.000000\n",
              "minimum_nights                    0.000000\n",
              "price                             0.000000\n",
              "room_type                         0.000000\n",
              "longitude                         0.000000\n",
              "latitude                          0.000000\n",
              "neighbourhood                     0.000000\n",
              "host_id                           0.000000\n",
              "id                                0.000000\n",
              "dtype: float64"
            ]
          },
          "metadata": {
            "tags": []
          },
          "execution_count": 35
        }
      ]
    },
    {
      "cell_type": "markdown",
      "metadata": {
        "id": "ed_Sn6URiXne"
      },
      "source": [
        "Pontos importantes que podemos observar na célula acima:\n",
        "\n",
        "* `neighbourhood_group` tem **TODOS**, 100%,  os seus valores em falta.\n",
        "* `reviews_per_month` e `last_review` têm aproximadamente, 30% dos seus valores em falta.\n",
        "* `host_name` e `name` têm 0,1% dos seus valores nulos."
      ]
    },
    {
      "cell_type": "markdown",
      "metadata": {
        "id": "T7pPSdRfjg3H"
      },
      "source": [
        "### **Q3. Qual o tipo de distribuição das variáveis?** \n"
      ]
    },
    {
      "cell_type": "code",
      "metadata": {
        "colab": {
          "base_uri": "https://localhost:8080/",
          "height": 489
        },
        "id": "K5Tj9RWIjnGM",
        "outputId": "e0b69791-eb49-498c-ef88-a4766f0651d2"
      },
      "source": [
        "df.hist(bins=25, figsize=(20,15));"
      ],
      "execution_count": 36,
      "outputs": [
        {
          "output_type": "display_data",
          "data": {
            "image/png": "[encoded data removed]",
            "text/plain": [
              "<Figure size 1440x1080 with 12 Axes>"
            ]
          },
          "metadata": {
            "tags": [],
            "needs_background": "light"
          }
        }
      ]
    },
    {
      "cell_type": "markdown",
      "metadata": {
        "id": "QguC6tzjkOrH"
      },
      "source": [
        "### **Q4. Há *outliers* presentes?**\n"
      ]
    },
    {
      "cell_type": "markdown",
      "metadata": {
        "id": "gAGAIWhKkq6C"
      },
      "source": [
        "O que são ***outliers***?\n",
        "\n",
        "Os outliers são dados que se diferenciam drasticamente de todos os outros, são pontos **fora da curva**. Em outras palavras, um outlier é um valor que foge da normalidade e que pode (e provavelmente irá) causar anomalias nos resultados obtidos nas análises.\n",
        "\n",
        "Com base na definição acima podemos ver alguns outliers nos histogramas acima, como em `price`, `minium_nights` e `calculated_ host_ listings_ count`.\n",
        "\n",
        "Na próxima célula faremos um resumo estatístico para conseguirmos observar com clareza as variáveis que pelo histograma observamos a presença de *outliers*."
      ]
    },
    {
      "cell_type": "code",
      "metadata": {
        "colab": {
          "base_uri": "https://localhost:8080/",
          "height": 315
        },
        "id": "Ys4TBE62l3Ge",
        "outputId": "181e32c7-b546-4d90-d134-b2cd60b8360e"
      },
      "source": [
        "df[['price', 'minimum_nights', 'number_of_reviews', 'reviews_per_month',\n",
        "    'calculated_host_listings_count', 'availability_365']].describe()"
      ],
      "execution_count": 37,
      "outputs": [
        {
          "output_type": "execute_result",
          "data": {
            "text/html": [
              "<div>\n",
              "<style scoped>\n",
              "    .dataframe tbody tr th:only-of-type {\n",
              "        vertical-align: middle;\n",
              "    }\n",
              "\n",
              "    .dataframe tbody tr th {\n",
              "        vertical-align: top;\n",
              "    }\n",
              "\n",
              "    .dataframe thead th {\n",
              "        text-align: right;\n",
              "    }\n",
              "</style>\n",
              "<table border=\"1\" class=\"dataframe\">\n",
              "  <thead>\n",
              "    <tr style=\"text-align: right;\">\n",
              "      <th></th>\n",
              "      <th>price</th>\n",
              "      <th>minimum_nights</th>\n",
              "      <th>number_of_reviews</th>\n",
              "      <th>reviews_per_month</th>\n",
              "      <th>calculated_host_listings_count</th>\n",
              "      <th>availability_365</th>\n",
              "    </tr>\n",
              "  </thead>\n",
              "  <tbody>\n",
              "    <tr>\n",
              "      <th>count</th>\n",
              "      <td>51040.000000</td>\n",
              "      <td>51040.000000</td>\n",
              "      <td>51040.000000</td>\n",
              "      <td>38619.000000</td>\n",
              "      <td>51040.000000</td>\n",
              "      <td>51040.000000</td>\n",
              "    </tr>\n",
              "    <tr>\n",
              "      <th>mean</th>\n",
              "      <td>124.526607</td>\n",
              "      <td>111.238656</td>\n",
              "      <td>20.262441</td>\n",
              "      <td>0.711934</td>\n",
              "      <td>14.815831</td>\n",
              "      <td>105.081172</td>\n",
              "    </tr>\n",
              "    <tr>\n",
              "      <th>std</th>\n",
              "      <td>246.523539</td>\n",
              "      <td>169.569734</td>\n",
              "      <td>43.403127</td>\n",
              "      <td>1.058283</td>\n",
              "      <td>61.755875</td>\n",
              "      <td>134.751091</td>\n",
              "    </tr>\n",
              "    <tr>\n",
              "      <th>min</th>\n",
              "      <td>0.000000</td>\n",
              "      <td>1.000000</td>\n",
              "      <td>0.000000</td>\n",
              "      <td>0.010000</td>\n",
              "      <td>1.000000</td>\n",
              "      <td>0.000000</td>\n",
              "    </tr>\n",
              "    <tr>\n",
              "      <th>25%</th>\n",
              "      <td>60.000000</td>\n",
              "      <td>2.000000</td>\n",
              "      <td>1.000000</td>\n",
              "      <td>0.120000</td>\n",
              "      <td>1.000000</td>\n",
              "      <td>0.000000</td>\n",
              "    </tr>\n",
              "    <tr>\n",
              "      <th>50%</th>\n",
              "      <td>85.000000</td>\n",
              "      <td>4.000000</td>\n",
              "      <td>5.000000</td>\n",
              "      <td>0.360000</td>\n",
              "      <td>1.000000</td>\n",
              "      <td>18.000000</td>\n",
              "    </tr>\n",
              "    <tr>\n",
              "      <th>75%</th>\n",
              "      <td>130.000000</td>\n",
              "      <td>365.000000</td>\n",
              "      <td>20.000000</td>\n",
              "      <td>0.900000</td>\n",
              "      <td>2.000000</td>\n",
              "      <td>200.000000</td>\n",
              "    </tr>\n",
              "    <tr>\n",
              "      <th>max</th>\n",
              "      <td>11600.000000</td>\n",
              "      <td>9999.000000</td>\n",
              "      <td>1093.000000</td>\n",
              "      <td>35.880000</td>\n",
              "      <td>527.000000</td>\n",
              "      <td>365.000000</td>\n",
              "    </tr>\n",
              "  </tbody>\n",
              "</table>\n",
              "</div>"
            ],
            "text/plain": [
              "              price  ...  availability_365\n",
              "count  51040.000000  ...      51040.000000\n",
              "mean     124.526607  ...        105.081172\n",
              "std      246.523539  ...        134.751091\n",
              "min        0.000000  ...          0.000000\n",
              "25%       60.000000  ...          0.000000\n",
              "50%       85.000000  ...         18.000000\n",
              "75%      130.000000  ...        200.000000\n",
              "max    11600.000000  ...        365.000000\n",
              "\n",
              "[8 rows x 6 columns]"
            ]
          },
          "metadata": {
            "tags": []
          },
          "execution_count": 37
        }
      ]
    },
    {
      "cell_type": "markdown",
      "metadata": {
        "id": "4AWqL6HDmIRH"
      },
      "source": [
        "##Boxplot\n",
        "\n",
        "Nas próximas células faremos o boxplot para `price` e `minium_nights`."
      ]
    },
    {
      "cell_type": "code",
      "metadata": {
        "colab": {
          "base_uri": "https://localhost:8080/",
          "height": 158
        },
        "id": "hXYMQ1ZcooJn",
        "outputId": "691cff96-4582-457f-840e-6dc3c418e30c"
      },
      "source": [
        "# price\n",
        "df.price.plot(kind='box', vert=False, figsize=(15, 3),)\n",
        "plt.show()"
      ],
      "execution_count": 38,
      "outputs": [
        {
          "output_type": "display_data",
          "data": {
            "image/png": "[encoded data removed]",
            "text/plain": [
              "<Figure size 1080x216 with 1 Axes>"
            ]
          },
          "metadata": {
            "tags": [],
            "needs_background": "light"
          }
        }
      ]
    },
    {
      "cell_type": "code",
      "metadata": {
        "colab": {
          "base_uri": "https://localhost:8080/"
        },
        "id": "d0tvixhuo6aw",
        "outputId": "37e7bdae-9fa4-4287-b6b5-76dbcb7b6c68"
      },
      "source": [
        "# ver de fato a quantidade de valores que estão sendo considerados outliers, acima de 1500\n",
        "print(\"\\nprice: valores acima de 1500\")\n",
        "print(\"{} entradas\".format(len(df[df.price > 1500])))\n",
        "print(\"{:.4f}%\".format((len(df[df.price > 1500]) / df.shape[0])*100))"
      ],
      "execution_count": 39,
      "outputs": [
        {
          "output_type": "stream",
          "text": [
            "\n",
            "price: valores acima de 1500\n",
            "72 entradas\n",
            "0.1411%\n"
          ],
          "name": "stdout"
        }
      ]
    },
    {
      "cell_type": "code",
      "metadata": {
        "colab": {
          "base_uri": "https://localhost:8080/",
          "height": 150
        },
        "id": "yYP5AKG3p-Rm",
        "outputId": "ae0e2032-5cea-4122-83a2-e40021de7e62"
      },
      "source": [
        "# minium_nights\n",
        "df.minimum_nights.plot(kind='box', vert=False, figsize=(15, 3))\n",
        "plt.show()"
      ],
      "execution_count": 40,
      "outputs": [
        {
          "output_type": "display_data",
          "data": {
            "image/png": "[encoded data removed]",
            "text/plain": [
              "<Figure size 1080x216 with 1 Axes>"
            ]
          },
          "metadata": {
            "tags": [],
            "needs_background": "light"
          }
        }
      ]
    },
    {
      "cell_type": "code",
      "metadata": {
        "colab": {
          "base_uri": "https://localhost:8080/"
        },
        "id": "GN58jdZHqJuB",
        "outputId": "7eb5e2df-e83b-4f29-ddc3-0a1aa6171ef4"
      },
      "source": [
        "print(\"minimum_nights: valores acima de 30:\")\n",
        "print(\"{} entradas\".format(len(df[df.minimum_nights > 30])))\n",
        "print(\"{:.4f}%\".format((len(df[df.minimum_nights > 30]) / df.shape[0])*100))"
      ],
      "execution_count": 41,
      "outputs": [
        {
          "output_type": "stream",
          "text": [
            "minimum_nights: valores acima de 30:\n",
            "15576 entradas\n",
            "30.5172%\n"
          ],
          "name": "stdout"
        }
      ]
    },
    {
      "cell_type": "markdown",
      "metadata": {
        "id": "9WF4EhZXnKbf"
      },
      "source": [
        "## Histogramas sem *outliers* "
      ]
    },
    {
      "cell_type": "markdown",
      "metadata": {
        "id": "nXxuFbCxnfjq"
      },
      "source": [
        "Iremos limpar o *DataFrame* das variáveis `price`e `minimum_nights`.\n",
        "* Removeremos os *outliers* de um novo DataFrame.\n",
        "* Removeremos a coluna `neighbourhood_group` visto que está vazia.\n",
        "* Plotaremos o histograma com essas mudanças."
      ]
    },
    {
      "cell_type": "code",
      "metadata": {
        "id": "rhCRdbq6oGkL"
      },
      "source": [
        "df_clean = df.copy()\n",
        "df_clean.drop(df_clean[df_clean.price > 1500].index, axis=0, inplace=True)\n",
        "df_clean.drop(df_clean[df_clean.minimum_nights > 30].index, axis=0, inplace=True)\n"
      ],
      "execution_count": 42,
      "outputs": []
    },
    {
      "cell_type": "code",
      "metadata": {
        "id": "c7bTfmilqts-"
      },
      "source": [
        "df_clean.drop('neighbourhood_group', axis=1, inplace=True)\n"
      ],
      "execution_count": 43,
      "outputs": []
    },
    {
      "cell_type": "code",
      "metadata": {
        "colab": {
          "base_uri": "https://localhost:8080/",
          "height": 494
        },
        "id": "puZlGpWXrJBC",
        "outputId": "ad284cab-edd1-433b-9bf6-010e645dda8e"
      },
      "source": [
        "df_clean.hist(bins=15, figsize=(20,15));"
      ],
      "execution_count": 47,
      "outputs": [
        {
          "output_type": "display_data",
          "data": {
            "image/png": "[encoded data removed]",
            "text/plain": [
              "<Figure size 1440x1080 with 12 Axes>"
            ]
          },
          "metadata": {
            "tags": [],
            "needs_background": "light"
          }
        }
      ]
    },
    {
      "cell_type": "markdown",
      "metadata": {
        "id": "izc1vW1NsL2X"
      },
      "source": [
        "### **Q4. Qual a correlação existente entre as variáveis**\n",
        "\n",
        "O objetivo do estudo de correlação entre variáveis é determinar o *grau de relacionamento* entre elas. \n",
        "\n",
        "Iremos fazer isso criando uma matriz de correlação. Mas por que faremos isso? A **matriz de correlação** permite que a **correlação** de todos os pares de variáveis possa ser observada em uma tabela. Isso pode ser feito de maneira muito simples nas principais ferramentas de análise de dados de hoje.\n"
      ]
    },
    {
      "cell_type": "code",
      "metadata": {
        "colab": {
          "base_uri": "https://localhost:8080/",
          "height": 254
        },
        "id": "-Br1Aiswts2G",
        "outputId": "216ee7ad-8305-445c-8087-20e41d32d2d0"
      },
      "source": [
        "corr = df_clean[['price', 'minimum_nights', 'number_of_reviews', 'reviews_per_month',\n",
        "    'calculated_host_listings_count', 'availability_365']].corr()\n",
        "\n",
        "display(corr)"
      ],
      "execution_count": 50,
      "outputs": [
        {
          "output_type": "display_data",
          "data": {
            "text/html": [
              "<div>\n",
              "<style scoped>\n",
              "    .dataframe tbody tr th:only-of-type {\n",
              "        vertical-align: middle;\n",
              "    }\n",
              "\n",
              "    .dataframe tbody tr th {\n",
              "        vertical-align: top;\n",
              "    }\n",
              "\n",
              "    .dataframe thead th {\n",
              "        text-align: right;\n",
              "    }\n",
              "</style>\n",
              "<table border=\"1\" class=\"dataframe\">\n",
              "  <thead>\n",
              "    <tr style=\"text-align: right;\">\n",
              "      <th></th>\n",
              "      <th>price</th>\n",
              "      <th>minimum_nights</th>\n",
              "      <th>number_of_reviews</th>\n",
              "      <th>reviews_per_month</th>\n",
              "      <th>calculated_host_listings_count</th>\n",
              "      <th>availability_365</th>\n",
              "    </tr>\n",
              "  </thead>\n",
              "  <tbody>\n",
              "    <tr>\n",
              "      <th>price</th>\n",
              "      <td>1.000000</td>\n",
              "      <td>-0.054892</td>\n",
              "      <td>-0.033842</td>\n",
              "      <td>-0.004953</td>\n",
              "      <td>0.114313</td>\n",
              "      <td>0.213728</td>\n",
              "    </tr>\n",
              "    <tr>\n",
              "      <th>minimum_nights</th>\n",
              "      <td>-0.054892</td>\n",
              "      <td>1.000000</td>\n",
              "      <td>-0.067497</td>\n",
              "      <td>-0.112931</td>\n",
              "      <td>0.045591</td>\n",
              "      <td>0.104054</td>\n",
              "    </tr>\n",
              "    <tr>\n",
              "      <th>number_of_reviews</th>\n",
              "      <td>-0.033842</td>\n",
              "      <td>-0.067497</td>\n",
              "      <td>1.000000</td>\n",
              "      <td>0.681672</td>\n",
              "      <td>-0.053068</td>\n",
              "      <td>0.140749</td>\n",
              "    </tr>\n",
              "    <tr>\n",
              "      <th>reviews_per_month</th>\n",
              "      <td>-0.004953</td>\n",
              "      <td>-0.112931</td>\n",
              "      <td>0.681672</td>\n",
              "      <td>1.000000</td>\n",
              "      <td>-0.003909</td>\n",
              "      <td>0.197694</td>\n",
              "    </tr>\n",
              "    <tr>\n",
              "      <th>calculated_host_listings_count</th>\n",
              "      <td>0.114313</td>\n",
              "      <td>0.045591</td>\n",
              "      <td>-0.053068</td>\n",
              "      <td>-0.003909</td>\n",
              "      <td>1.000000</td>\n",
              "      <td>0.068806</td>\n",
              "    </tr>\n",
              "    <tr>\n",
              "      <th>availability_365</th>\n",
              "      <td>0.213728</td>\n",
              "      <td>0.104054</td>\n",
              "      <td>0.140749</td>\n",
              "      <td>0.197694</td>\n",
              "      <td>0.068806</td>\n",
              "      <td>1.000000</td>\n",
              "    </tr>\n",
              "  </tbody>\n",
              "</table>\n",
              "</div>"
            ],
            "text/plain": [
              "                                   price  ...  availability_365\n",
              "price                           1.000000  ...          0.213728\n",
              "minimum_nights                 -0.054892  ...          0.104054\n",
              "number_of_reviews              -0.033842  ...          0.140749\n",
              "reviews_per_month              -0.004953  ...          0.197694\n",
              "calculated_host_listings_count  0.114313  ...          0.068806\n",
              "availability_365                0.213728  ...          1.000000\n",
              "\n",
              "[6 rows x 6 columns]"
            ]
          },
          "metadata": {
            "tags": []
          }
        }
      ]
    },
    {
      "cell_type": "code",
      "metadata": {
        "colab": {
          "base_uri": "https://localhost:8080/",
          "height": 411
        },
        "id": "V2VE4kQvt8EV",
        "outputId": "1d955225-ce47-4ed4-8a48-8f578222f411"
      },
      "source": [
        "# plotaremos um mapa de calor dessa matriz\n",
        "sns.heatmap(corr, cmap='RdBu', fmt='.2f', square=True, linecolor='white', annot=True);"
      ],
      "execution_count": 51,
      "outputs": [
        {
          "output_type": "display_data",
          "data": {
            "image/png": "[encoded data removed]",
            "text/plain": [
              "<Figure size 432x288 with 2 Axes>"
            ]
          },
          "metadata": {
            "tags": [],
            "needs_background": "light"
          }
        }
      ]
    },
    {
      "cell_type": "markdown",
      "metadata": {
        "id": "BLp1jNFDvIqQ"
      },
      "source": [
        "### **Q5. Qual o tipo de imóvel mais alugado no Airbnb?**\n",
        "\n"
      ]
    },
    {
      "cell_type": "markdown",
      "metadata": {
        "id": "CE_-stHpwDZN"
      },
      "source": [
        "O Airbnb tem muitas possibilidades de imóvel. Desde *quartos* até *acomodações únicas*. Na próxima célula iremos saber qual imóvel é mais procurado na cidade de Paris na França."
      ]
    },
    {
      "cell_type": "code",
      "metadata": {
        "colab": {
          "base_uri": "https://localhost:8080/"
        },
        "id": "0CCmt-I3vqAu",
        "outputId": "d5520b80-3657-4108-9345-18e3e7dd4bff"
      },
      "source": [
        "df_clean.room_type.value_counts()"
      ],
      "execution_count": 52,
      "outputs": [
        {
          "output_type": "execute_result",
          "data": {
            "text/plain": [
              "Entire home/apt    26651\n",
              "Private room        7269\n",
              "Hotel room          1139\n",
              "Shared room          356\n",
              "Name: room_type, dtype: int64"
            ]
          },
          "metadata": {
            "tags": []
          },
          "execution_count": 52
        }
      ]
    },
    {
      "cell_type": "markdown",
      "metadata": {
        "id": "Xq71_f6Rv6-I"
      },
      "source": [
        "`Entire home/apt ` (casa ou apartamento inteiro) é o tipo de imóvel mais alugado como podemos observar.\n",
        "\n",
        "\n"
      ]
    },
    {
      "cell_type": "code",
      "metadata": {
        "colab": {
          "base_uri": "https://localhost:8080/"
        },
        "id": "9_YBRfUpvuVz",
        "outputId": "465c541b-de1c-4959-f2bf-6c0e93cebcf0"
      },
      "source": [
        "df_clean.room_type.value_counts() / df_clean.shape[0]"
      ],
      "execution_count": 53,
      "outputs": [
        {
          "output_type": "execute_result",
          "data": {
            "text/plain": [
              "Entire home/apt    0.752534\n",
              "Private room       0.205252\n",
              "Hotel room         0.032162\n",
              "Shared room        0.010052\n",
              "Name: room_type, dtype: float64"
            ]
          },
          "metadata": {
            "tags": []
          },
          "execution_count": 53
        }
      ]
    },
    {
      "cell_type": "markdown",
      "metadata": {
        "id": "wU9LXM1ew_Fr"
      },
      "source": [
        "Porcentagem da disponibilidade de cada imóvel na cidade de *Paris*."
      ]
    },
    {
      "cell_type": "markdown",
      "metadata": {
        "id": "-_ETSVWIxKCm"
      },
      "source": [
        "### **Q6. Qual a localidade mais cara de Paris?**\n",
        "\n",
        "* `groupby()`: nela podemos manipular grandes conjuntos de dados utilizando o método groupby(). \n",
        "Para averiguarmos o local mais caro teremos que comparar os bairros e seus valores de locação."
      ]
    },
    {
      "cell_type": "code",
      "metadata": {
        "colab": {
          "base_uri": "https://localhost:8080/"
        },
        "id": "x_6C_7kCyUDZ",
        "outputId": "ed17e7f2-bb11-41aa-ea9e-f76110ab0519"
      },
      "source": [
        "df_clean.groupby(['neighbourhood']).price.mean().sort_values(ascending=False)[:10]"
      ],
      "execution_count": 54,
      "outputs": [
        {
          "output_type": "execute_result",
          "data": {
            "text/plain": [
              "neighbourhood\n",
              "Élysée            231.627281\n",
              "Palais-Bourbon    191.893832\n",
              "Louvre            185.768805\n",
              "Luxembourg        178.161369\n",
              "Passy             172.217468\n",
              "Hôtel-de-Ville    169.783414\n",
              "Bourse            164.092669\n",
              "Temple            159.086147\n",
              "Opéra             139.518813\n",
              "Panthéon          138.068308\n",
              "Name: price, dtype: float64"
            ]
          },
          "metadata": {
            "tags": []
          },
          "execution_count": 54
        }
      ]
    },
    {
      "cell_type": "markdown",
      "metadata": {
        "id": "ebwR3Lnqz8B8"
      },
      "source": [
        "### **Conclusão**\n",
        "\n",
        "Nesse modelo foi feita uma análise simples de alguns pontos tidos como importantes no 1º módulo de **DSNP**.\n",
        "\n",
        "A presença de *outliers* foi visível nas variáveis `price` e `minimum_nights` e ficou ainda mais claro quando plotado pro histograma. Os valores não seguiam uma distribuição homogênea e isso fazia com que o gráfico ficasse distorcido na representação gráfica.\n",
        "\n",
        "Após a identificação desses *outliers* foi feita uma limpeza no *DataFrame* e após isso a representação gráfica ficou mais clara para análise. "
      ]
    }
  ]
}