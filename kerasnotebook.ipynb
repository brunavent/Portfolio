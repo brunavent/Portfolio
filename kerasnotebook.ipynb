{
  "cells": [
    {
      "metadata": {},
      "cell_type": "markdown",
      "source": "# Estudo de Resenhas"
    },
    {
      "metadata": {},
      "cell_type": "markdown",
      "source": "### Um Estudo Sobre Sentimentos em Análises de Filmes"
    },
    {
      "metadata": {},
      "cell_type": "markdown",
      "source": "Será que é possível analisar sentimentos em texto? Posso te dizer que sim! Como? Através de uma rede neural. Pra treinar uma rede neural é necesário que se tenha dados. Então, em vez de baixar um conjunto de dados externo, eu usarei o conjunto de dados de <a href=\"https://keras.io/api/datasets/\">classificação de sentimento de revisões de filmes do catálogo IMDB</a> o qual está no <b>Keras</b>. \n\nO IMDB é conhecido site que age como um catálogo internacional de filmes, séries e outros formatos. O seu intuito é permitir o acesso irrestrito para qualquer um votar e obter informações sobre algum programa desejado. \nO conjunto de dados do Catálogo IMDB contém <i>50 mil revisões cinematográficas</i> que foram classificas individualmente como positivas (1) ou negativas (0). Essas 50 mil revisões foram divididas em 25 mil para treinamento e 25 mil para teste. \nO sentimento que é expresso nessas revisões é a base para qual rede neural irá análisar o texto apresentado e irá fazer atribuição a esse texto com uma pontuação referente ao sentimento.\n"
    },
    {
      "metadata": {
        "trusted": true
      },
      "cell_type": "code",
      "source": "# Carregando os dados\nfrom keras.datasets import imdb\ntop_words = 10000\n(x_train, y_train), (x_test, y_test) = imdb.load_data(num_words=top_words)",
      "execution_count": 104,
      "outputs": []
    },
    {
      "metadata": {},
      "cell_type": "markdown",
      "source": "Além de carregar os dados esse código cria um dicionário que mapeia as palavras transformando-as em inteiros que indicam a frequência relativa com que aparecem. Sendo assim, um inteiro exclusivo é atribuído a cada palavra. O número 1 é atribuído à palavra mais comum, o número 2 é atribuído à segunda palavra mais comum e assim por diante.\n\n<i>load_data</i> também retorna um par de tuplas que contém as revisões de filme (<i>x_train</i> e <i>x_test</i>) e os 1s e 0s classificando-as como positivas e negativas (<i>y_train</i> e <i>y_test</i>)."
    },
    {
      "metadata": {},
      "cell_type": "markdown",
      "source": "<br/>\n## Redes Neurais"
    },
    {
      "metadata": {},
      "cell_type": "markdown",
      "source": "Redes neurais são sistemas de computação com nós interconectados que funcionam como os neurônios do cérebro humano.<br/>\nUsando algoritmos, elas podem reconhecer padrões escondidos e correlações em <i>dados</i> brutos, agrupá-los e classificá-los, e – com o tempo – aprender e melhorar continuamente.\n\n* **Como funciona?**\nUma rede neural simples inclui uma camada de entrada, outra de saída (ou alvo) e, entre elas, uma camada oculta. As camadas são conectadas através de nós e essas conexões formam uma \"rede\" – a rede neural – de nós interconectados.\n\n\nResumidamente, uma rede neural não é treinada com texto e sim com números. Especificamente, elas são treinadas com <b>tensores</b> (observe que no 1º código aparece a mensagem \"Usando back-end de TensorFlow\"). Os tensores são ferramentas totalmente matemáticas, mas no caso desse artigo é o seguinte: cada revisão é um tensor unidimensional (imagine uma matriz unidimensional) que contém inteiros identificando as palavras contidas na revisão.\n\nVou dar um exemplo na célula seguinte e você verá os inteiros que representam a primeira revisão no conjunto de treinamento:\n"
    },
    {
      "metadata": {
        "trusted": true
      },
      "cell_type": "code",
      "source": "x_train[0]",
      "execution_count": 105,
      "outputs": [
        {
          "output_type": "execute_result",
          "execution_count": 105,
          "data": {
            "text/plain": "[1,\n 14,\n 22,\n 16,\n 43,\n 530,\n 973,\n 1622,\n 1385,\n 65,\n 458,\n 4468,\n 66,\n 3941,\n 4,\n 173,\n 36,\n 256,\n 5,\n 25,\n 100,\n 43,\n 838,\n 112,\n 50,\n 670,\n 2,\n 9,\n 35,\n 480,\n 284,\n 5,\n 150,\n 4,\n 172,\n 112,\n 167,\n 2,\n 336,\n 385,\n 39,\n 4,\n 172,\n 4536,\n 1111,\n 17,\n 546,\n 38,\n 13,\n 447,\n 4,\n 192,\n 50,\n 16,\n 6,\n 147,\n 2025,\n 19,\n 14,\n 22,\n 4,\n 1920,\n 4613,\n 469,\n 4,\n 22,\n 71,\n 87,\n 12,\n 16,\n 43,\n 530,\n 38,\n 76,\n 15,\n 13,\n 1247,\n 4,\n 22,\n 17,\n 515,\n 17,\n 12,\n 16,\n 626,\n 18,\n 2,\n 5,\n 62,\n 386,\n 12,\n 8,\n 316,\n 8,\n 106,\n 5,\n 4,\n 2223,\n 5244,\n 16,\n 480,\n 66,\n 3785,\n 33,\n 4,\n 130,\n 12,\n 16,\n 38,\n 619,\n 5,\n 25,\n 124,\n 51,\n 36,\n 135,\n 48,\n 25,\n 1415,\n 33,\n 6,\n 22,\n 12,\n 215,\n 28,\n 77,\n 52,\n 5,\n 14,\n 407,\n 16,\n 82,\n 2,\n 8,\n 4,\n 107,\n 117,\n 5952,\n 15,\n 256,\n 4,\n 2,\n 7,\n 3766,\n 5,\n 723,\n 36,\n 71,\n 43,\n 530,\n 476,\n 26,\n 400,\n 317,\n 46,\n 7,\n 4,\n 2,\n 1029,\n 13,\n 104,\n 88,\n 4,\n 381,\n 15,\n 297,\n 98,\n 32,\n 2071,\n 56,\n 26,\n 141,\n 6,\n 194,\n 7486,\n 18,\n 4,\n 226,\n 22,\n 21,\n 134,\n 476,\n 26,\n 480,\n 5,\n 144,\n 30,\n 5535,\n 18,\n 51,\n 36,\n 28,\n 224,\n 92,\n 25,\n 104,\n 4,\n 226,\n 65,\n 16,\n 38,\n 1334,\n 88,\n 12,\n 16,\n 283,\n 5,\n 16,\n 4472,\n 113,\n 103,\n 32,\n 15,\n 16,\n 5345,\n 19,\n 178,\n 32]"
          },
          "metadata": {}
        }
      ]
    },
    {
      "metadata": {},
      "cell_type": "markdown",
      "source": "<i>Conjunto de inteiros que compõem a primeira revisão no conjunto de treinamento do Catálogo IMDB.<br/>\nO primeiro número na lista (1) não representa nenhuma palavra. Ele marca o início da revisão e é o mesmo cada revisão no conjunto. \nOs números 0 e 2 também são reservados, sendo assim existe 3 números reservados, então eu subtraio 3 dos outros números para mapear um número inteiro em uma revisão para o inteiro correspondente no dicionário. O segundo número, 14, faz referência à palavra que corresponde ao número 11 no dicionário, o terceiro número representa a pavra à qual o número 19 é atribuído no dicionário e assim por diante.</i>"
    },
    {
      "metadata": {},
      "cell_type": "markdown",
      "source": "\n### Curioso para ver a aparência do dicionário? \nA seguir será executada uma instrução e só será mostrado apenas um subconjunto das entradas do dicionário, mas no geral contém mais de 88 mil palavras e os inteiros correspondem a elas. "
    },
    {
      "metadata": {
        "trusted": true
      },
      "cell_type": "code",
      "source": "imdb.get_word_index()",
      "execution_count": 106,
      "outputs": [
        {
          "output_type": "execute_result",
          "execution_count": 106,
          "data": {
            "text/plain": "{'fawn': 34701,\n 'tsukino': 52006,\n 'nunnery': 52007,\n 'sonja': 16816,\n 'vani': 63951,\n 'woods': 1408,\n 'spiders': 16115,\n 'hanging': 2345,\n 'woody': 2289,\n 'trawling': 52008,\n \"hold's\": 52009,\n 'comically': 11307,\n 'localized': 40830,\n 'disobeying': 30568,\n \"'royale\": 52010,\n \"harpo's\": 40831,\n 'canet': 52011,\n 'aileen': 19313,\n 'acurately': 52012,\n \"diplomat's\": 52013,\n 'rickman': 25242,\n 'arranged': 6746,\n 'rumbustious': 52014,\n 'familiarness': 52015,\n \"spider'\": 52016,\n 'hahahah': 68804,\n \"wood'\": 52017,\n 'transvestism': 40833,\n \"hangin'\": 34702,\n 'bringing': 2338,\n 'seamier': 40834,\n 'wooded': 34703,\n 'bravora': 52018,\n 'grueling': 16817,\n 'wooden': 1636,\n 'wednesday': 16818,\n \"'prix\": 52019,\n 'altagracia': 34704,\n 'circuitry': 52020,\n 'crotch': 11585,\n 'busybody': 57766,\n \"tart'n'tangy\": 52021,\n 'burgade': 14129,\n 'thrace': 52023,\n \"tom's\": 11038,\n 'snuggles': 52025,\n 'francesco': 29114,\n 'complainers': 52027,\n 'templarios': 52125,\n '272': 40835,\n '273': 52028,\n 'zaniacs': 52130,\n '275': 34706,\n 'consenting': 27631,\n 'snuggled': 40836,\n 'inanimate': 15492,\n 'uality': 52030,\n 'bronte': 11926,\n 'errors': 4010,\n 'dialogs': 3230,\n \"yomada's\": 52031,\n \"madman's\": 34707,\n 'dialoge': 30585,\n 'usenet': 52033,\n 'videodrome': 40837,\n \"kid'\": 26338,\n 'pawed': 52034,\n \"'girlfriend'\": 30569,\n \"'pleasure\": 52035,\n \"'reloaded'\": 52036,\n \"kazakos'\": 40839,\n 'rocque': 52037,\n 'mailings': 52038,\n 'brainwashed': 11927,\n 'mcanally': 16819,\n \"tom''\": 52039,\n 'kurupt': 25243,\n 'affiliated': 21905,\n 'babaganoosh': 52040,\n \"noe's\": 40840,\n 'quart': 40841,\n 'kids': 359,\n 'uplifting': 5034,\n 'controversy': 7093,\n 'kida': 21906,\n 'kidd': 23379,\n \"error'\": 52041,\n 'neurologist': 52042,\n 'spotty': 18510,\n 'cobblers': 30570,\n 'projection': 9878,\n 'fastforwarding': 40842,\n 'sters': 52043,\n \"eggar's\": 52044,\n 'etherything': 52045,\n 'gateshead': 40843,\n 'airball': 34708,\n 'unsinkable': 25244,\n 'stern': 7180,\n \"cervi's\": 52046,\n 'dnd': 40844,\n 'dna': 11586,\n 'insecurity': 20598,\n \"'reboot'\": 52047,\n 'trelkovsky': 11037,\n 'jaekel': 52048,\n 'sidebars': 52049,\n \"sforza's\": 52050,\n 'distortions': 17633,\n 'mutinies': 52051,\n 'sermons': 30602,\n '7ft': 40846,\n 'boobage': 52052,\n \"o'bannon's\": 52053,\n 'populations': 23380,\n 'chulak': 52054,\n 'mesmerize': 27633,\n 'quinnell': 52055,\n 'yahoo': 10307,\n 'meteorologist': 52057,\n 'beswick': 42577,\n 'boorman': 15493,\n 'voicework': 40847,\n \"ster'\": 52058,\n 'blustering': 22922,\n 'hj': 52059,\n 'intake': 27634,\n 'morally': 5621,\n 'jumbling': 40849,\n 'bowersock': 52060,\n \"'porky's'\": 52061,\n 'gershon': 16821,\n 'ludicrosity': 40850,\n 'coprophilia': 52062,\n 'expressively': 40851,\n \"india's\": 19500,\n \"post's\": 34710,\n 'wana': 52063,\n 'wang': 5283,\n 'wand': 30571,\n 'wane': 25245,\n 'edgeways': 52321,\n 'titanium': 34711,\n 'pinta': 40852,\n 'want': 178,\n 'pinto': 30572,\n 'whoopdedoodles': 52065,\n 'tchaikovsky': 21908,\n 'travel': 2103,\n \"'victory'\": 52066,\n 'copious': 11928,\n 'gouge': 22433,\n \"chapters'\": 52067,\n 'barbra': 6702,\n 'uselessness': 30573,\n \"wan'\": 52068,\n 'assimilated': 27635,\n 'petiot': 16116,\n 'most\\x85and': 52069,\n 'dinosaurs': 3930,\n 'wrong': 352,\n 'seda': 52070,\n 'stollen': 52071,\n 'sentencing': 34712,\n 'ouroboros': 40853,\n 'assimilates': 40854,\n 'colorfully': 40855,\n 'glenne': 27636,\n 'dongen': 52072,\n 'subplots': 4760,\n 'kiloton': 52073,\n 'chandon': 23381,\n \"effect'\": 34713,\n 'snugly': 27637,\n 'kuei': 40856,\n 'welcomed': 9092,\n 'dishonor': 30071,\n 'concurrence': 52075,\n 'stoicism': 23382,\n \"guys'\": 14896,\n \"beroemd'\": 52077,\n 'butcher': 6703,\n \"melfi's\": 40857,\n 'aargh': 30623,\n 'playhouse': 20599,\n 'wickedly': 11308,\n 'fit': 1180,\n 'labratory': 52078,\n 'lifeline': 40859,\n 'screaming': 1927,\n 'fix': 4287,\n 'cineliterate': 52079,\n 'fic': 52080,\n 'fia': 52081,\n 'fig': 34714,\n 'fmvs': 52082,\n 'fie': 52083,\n 'reentered': 52084,\n 'fin': 30574,\n 'doctresses': 52085,\n 'fil': 52086,\n 'zucker': 12606,\n 'ached': 31931,\n 'counsil': 52088,\n 'paterfamilias': 52089,\n 'songwriter': 13885,\n 'shivam': 34715,\n 'hurting': 9654,\n 'effects': 299,\n 'slauther': 52090,\n \"'flame'\": 52091,\n 'sommerset': 52092,\n 'interwhined': 52093,\n 'whacking': 27638,\n 'bartok': 52094,\n 'barton': 8775,\n 'frewer': 21909,\n \"fi'\": 52095,\n 'ingrid': 6192,\n 'stribor': 30575,\n 'approporiately': 52096,\n 'wobblyhand': 52097,\n 'tantalisingly': 52098,\n 'ankylosaurus': 52099,\n 'parasites': 17634,\n 'childen': 52100,\n \"jenkins'\": 52101,\n 'metafiction': 52102,\n 'golem': 17635,\n 'indiscretion': 40860,\n \"reeves'\": 23383,\n \"inamorata's\": 57781,\n 'brittannica': 52104,\n 'adapt': 7916,\n \"russo's\": 30576,\n 'guitarists': 48246,\n 'abbott': 10553,\n 'abbots': 40861,\n 'lanisha': 17649,\n 'magickal': 40863,\n 'mattter': 52105,\n \"'willy\": 52106,\n 'pumpkins': 34716,\n 'stuntpeople': 52107,\n 'estimate': 30577,\n 'ugghhh': 40864,\n 'gameplay': 11309,\n \"wern't\": 52108,\n \"n'sync\": 40865,\n 'sickeningly': 16117,\n 'chiara': 40866,\n 'disturbed': 4011,\n 'portmanteau': 40867,\n 'ineffectively': 52109,\n \"duchonvey's\": 82143,\n \"nasty'\": 37519,\n 'purpose': 1285,\n 'lazers': 52112,\n 'lightened': 28105,\n 'kaliganj': 52113,\n 'popularism': 52114,\n \"damme's\": 18511,\n 'stylistics': 30578,\n 'mindgaming': 52115,\n 'spoilerish': 46449,\n \"'corny'\": 52117,\n 'boerner': 34718,\n 'olds': 6792,\n 'bakelite': 52118,\n 'renovated': 27639,\n 'forrester': 27640,\n \"lumiere's\": 52119,\n 'gaskets': 52024,\n 'needed': 884,\n 'smight': 34719,\n 'master': 1297,\n \"edie's\": 25905,\n 'seeber': 40868,\n 'hiya': 52120,\n 'fuzziness': 52121,\n 'genesis': 14897,\n 'rewards': 12607,\n 'enthrall': 30579,\n \"'about\": 40869,\n \"recollection's\": 52122,\n 'mutilated': 11039,\n 'fatherlands': 52123,\n \"fischer's\": 52124,\n 'positively': 5399,\n '270': 34705,\n 'ahmed': 34720,\n 'zatoichi': 9836,\n 'bannister': 13886,\n 'anniversaries': 52127,\n \"helm's\": 30580,\n \"'work'\": 52128,\n 'exclaimed': 34721,\n \"'unfunny'\": 52129,\n '274': 52029,\n 'feeling': 544,\n \"wanda's\": 52131,\n 'dolan': 33266,\n '278': 52133,\n 'peacoat': 52134,\n 'brawny': 40870,\n 'mishra': 40871,\n 'worlders': 40872,\n 'protags': 52135,\n 'skullcap': 52136,\n 'dastagir': 57596,\n 'affairs': 5622,\n 'wholesome': 7799,\n 'hymen': 52137,\n 'paramedics': 25246,\n 'unpersons': 52138,\n 'heavyarms': 52139,\n 'affaire': 52140,\n 'coulisses': 52141,\n 'hymer': 40873,\n 'kremlin': 52142,\n 'shipments': 30581,\n 'pixilated': 52143,\n \"'00s\": 30582,\n 'diminishing': 18512,\n 'cinematic': 1357,\n 'resonates': 14898,\n 'simplify': 40874,\n \"nature'\": 40875,\n 'temptresses': 40876,\n 'reverence': 16822,\n 'resonated': 19502,\n 'dailey': 34722,\n '2\\x85': 52144,\n 'treize': 27641,\n 'majo': 52145,\n 'kiya': 21910,\n 'woolnough': 52146,\n 'thanatos': 39797,\n 'sandoval': 35731,\n 'dorama': 40879,\n \"o'shaughnessy\": 52147,\n 'tech': 4988,\n 'fugitives': 32018,\n 'teck': 30583,\n \"'e'\": 76125,\n 'doesn’t': 40881,\n 'purged': 52149,\n 'saying': 657,\n \"martians'\": 41095,\n 'norliss': 23418,\n 'dickey': 27642,\n 'dicker': 52152,\n \"'sependipity\": 52153,\n 'padded': 8422,\n 'ordell': 57792,\n \"sturges'\": 40882,\n 'independentcritics': 52154,\n 'tempted': 5745,\n \"atkinson's\": 34724,\n 'hounded': 25247,\n 'apace': 52155,\n 'clicked': 15494,\n \"'humor'\": 30584,\n \"martino's\": 17177,\n \"'supporting\": 52156,\n 'warmongering': 52032,\n \"zemeckis's\": 34725,\n 'lube': 21911,\n 'shocky': 52157,\n 'plate': 7476,\n 'plata': 40883,\n 'sturgess': 40884,\n \"nerds'\": 40885,\n 'plato': 20600,\n 'plath': 34726,\n 'platt': 40886,\n 'mcnab': 52159,\n 'clumsiness': 27643,\n 'altogether': 3899,\n 'massacring': 42584,\n 'bicenntinial': 52160,\n 'skaal': 40887,\n 'droning': 14360,\n 'lds': 8776,\n 'jaguar': 21912,\n \"cale's\": 34727,\n 'nicely': 1777,\n 'mummy': 4588,\n \"lot's\": 18513,\n 'patch': 10086,\n 'kerkhof': 50202,\n \"leader's\": 52161,\n \"'movie\": 27644,\n 'uncomfirmed': 52162,\n 'heirloom': 40888,\n 'wrangle': 47360,\n 'emotion\\x85': 52163,\n \"'stargate'\": 52164,\n 'pinoy': 40889,\n 'conchatta': 40890,\n 'broeke': 41128,\n 'advisedly': 40891,\n \"barker's\": 17636,\n 'descours': 52166,\n 'lots': 772,\n 'lotr': 9259,\n 'irs': 9879,\n 'lott': 52167,\n 'xvi': 40892,\n 'irk': 34728,\n 'irl': 52168,\n 'ira': 6887,\n 'belzer': 21913,\n 'irc': 52169,\n 'ire': 27645,\n 'requisites': 40893,\n 'discipline': 7693,\n 'lyoko': 52961,\n 'extend': 11310,\n 'nature': 873,\n \"'dickie'\": 52170,\n 'optimist': 40894,\n 'lapping': 30586,\n 'superficial': 3900,\n 'vestment': 52171,\n 'extent': 2823,\n 'tendons': 52172,\n \"heller's\": 52173,\n 'quagmires': 52174,\n 'miyako': 52175,\n 'moocow': 20601,\n \"coles'\": 52176,\n 'lookit': 40895,\n 'ravenously': 52177,\n 'levitating': 40896,\n 'perfunctorily': 52178,\n 'lookin': 30587,\n \"lot'\": 40898,\n 'lookie': 52179,\n 'fearlessly': 34870,\n 'libyan': 52181,\n 'fondles': 40899,\n 'gopher': 35714,\n 'wearying': 40901,\n \"nz's\": 52182,\n 'minuses': 27646,\n 'puposelessly': 52183,\n 'shandling': 52184,\n 'decapitates': 31268,\n 'humming': 11929,\n \"'nother\": 40902,\n 'smackdown': 21914,\n 'underdone': 30588,\n 'frf': 40903,\n 'triviality': 52185,\n 'fro': 25248,\n 'bothers': 8777,\n \"'kensington\": 52186,\n 'much': 73,\n 'muco': 34730,\n 'wiseguy': 22615,\n \"richie's\": 27648,\n 'tonino': 40904,\n 'unleavened': 52187,\n 'fry': 11587,\n \"'tv'\": 40905,\n 'toning': 40906,\n 'obese': 14361,\n 'sensationalized': 30589,\n 'spiv': 40907,\n 'spit': 6259,\n 'arkin': 7364,\n 'charleton': 21915,\n 'jeon': 16823,\n 'boardroom': 21916,\n 'doubts': 4989,\n 'spin': 3084,\n 'hepo': 53083,\n 'wildcat': 27649,\n 'venoms': 10584,\n 'misconstrues': 52191,\n 'mesmerising': 18514,\n 'misconstrued': 40908,\n 'rescinds': 52192,\n 'prostrate': 52193,\n 'majid': 40909,\n 'climbed': 16479,\n 'canoeing': 34731,\n 'majin': 52195,\n 'animie': 57804,\n 'sylke': 40910,\n 'conditioned': 14899,\n 'waddell': 40911,\n '3\\x85': 52196,\n 'hyperdrive': 41188,\n 'conditioner': 34732,\n 'bricklayer': 53153,\n 'hong': 2576,\n 'memoriam': 52198,\n 'inventively': 30592,\n \"levant's\": 25249,\n 'portobello': 20638,\n 'remand': 52200,\n 'mummified': 19504,\n 'honk': 27650,\n 'spews': 19505,\n 'visitations': 40912,\n 'mummifies': 52201,\n 'cavanaugh': 25250,\n 'zeon': 23385,\n \"jungle's\": 40913,\n 'viertel': 34733,\n 'frenchmen': 27651,\n 'torpedoes': 52202,\n 'schlessinger': 52203,\n 'torpedoed': 34734,\n 'blister': 69876,\n 'cinefest': 52204,\n 'furlough': 34735,\n 'mainsequence': 52205,\n 'mentors': 40914,\n 'academic': 9094,\n 'stillness': 20602,\n 'academia': 40915,\n 'lonelier': 52206,\n 'nibby': 52207,\n \"losers'\": 52208,\n 'cineastes': 40916,\n 'corporate': 4449,\n 'massaging': 40917,\n 'bellow': 30593,\n 'absurdities': 19506,\n 'expetations': 53241,\n 'nyfiken': 40918,\n 'mehras': 75638,\n 'lasse': 52209,\n 'visability': 52210,\n 'militarily': 33946,\n \"elder'\": 52211,\n 'gainsbourg': 19023,\n 'hah': 20603,\n 'hai': 13420,\n 'haj': 34736,\n 'hak': 25251,\n 'hal': 4311,\n 'ham': 4892,\n 'duffer': 53259,\n 'haa': 52213,\n 'had': 66,\n 'advancement': 11930,\n 'hag': 16825,\n \"hand'\": 25252,\n 'hay': 13421,\n 'mcnamara': 20604,\n \"mozart's\": 52214,\n 'duffel': 30731,\n 'haq': 30594,\n 'har': 13887,\n 'has': 44,\n 'hat': 2401,\n 'hav': 40919,\n 'haw': 30595,\n 'figtings': 52215,\n 'elders': 15495,\n 'underpanted': 52216,\n 'pninson': 52217,\n 'unequivocally': 27652,\n \"barbara's\": 23673,\n \"bello'\": 52219,\n 'indicative': 12997,\n 'yawnfest': 40920,\n 'hexploitation': 52220,\n \"loder's\": 52221,\n 'sleuthing': 27653,\n \"justin's\": 32622,\n \"'ball\": 52222,\n \"'summer\": 52223,\n \"'demons'\": 34935,\n \"mormon's\": 52225,\n \"laughton's\": 34737,\n 'debell': 52226,\n 'shipyard': 39724,\n 'unabashedly': 30597,\n 'disks': 40401,\n 'crowd': 2290,\n 'crowe': 10087,\n \"vancouver's\": 56434,\n 'mosques': 34738,\n 'crown': 6627,\n 'culpas': 52227,\n 'crows': 27654,\n 'surrell': 53344,\n 'flowless': 52229,\n 'sheirk': 52230,\n \"'three\": 40923,\n \"peterson'\": 52231,\n 'ooverall': 52232,\n 'perchance': 40924,\n 'bottom': 1321,\n 'chabert': 53363,\n 'sneha': 52233,\n 'inhuman': 13888,\n 'ichii': 52234,\n 'ursla': 52235,\n 'completly': 30598,\n 'moviedom': 40925,\n 'raddick': 52236,\n 'brundage': 51995,\n 'brigades': 40926,\n 'starring': 1181,\n \"'goal'\": 52237,\n 'caskets': 52238,\n 'willcock': 52239,\n \"threesome's\": 52240,\n \"mosque'\": 52241,\n \"cover's\": 52242,\n 'spaceships': 17637,\n 'anomalous': 40927,\n 'ptsd': 27655,\n 'shirdan': 52243,\n 'obscenity': 21962,\n 'lemmings': 30599,\n 'duccio': 30600,\n \"levene's\": 52244,\n \"'gorby'\": 52245,\n \"teenager's\": 25255,\n 'marshall': 5340,\n 'honeymoon': 9095,\n 'shoots': 3231,\n 'despised': 12258,\n 'okabasho': 52246,\n 'fabric': 8289,\n 'cannavale': 18515,\n 'raped': 3537,\n \"tutt's\": 52247,\n 'grasping': 17638,\n 'despises': 18516,\n \"thief's\": 40928,\n 'rapes': 8926,\n 'raper': 52248,\n \"eyre'\": 27656,\n 'walchek': 52249,\n \"elmo's\": 23386,\n 'perfumes': 40929,\n 'spurting': 21918,\n \"exposition'\\x85\": 52250,\n 'denoting': 52251,\n 'thesaurus': 34740,\n \"shoot'\": 40930,\n 'bonejack': 49759,\n 'simpsonian': 52253,\n 'hebetude': 30601,\n \"hallow's\": 34741,\n 'desperation\\x85': 52254,\n 'incinerator': 34742,\n 'congratulations': 10308,\n 'humbled': 52255,\n \"else's\": 5924,\n 'trelkovski': 40845,\n \"rape'\": 52256,\n \"'chapters'\": 59386,\n '1600s': 52257,\n 'martian': 7253,\n 'nicest': 25256,\n 'eyred': 52259,\n 'passenger': 9457,\n 'disgrace': 6041,\n 'moderne': 52260,\n 'barrymore': 5120,\n 'yankovich': 52261,\n 'moderns': 40931,\n 'studliest': 52262,\n 'bedsheet': 52263,\n 'decapitation': 14900,\n 'slurring': 52264,\n \"'nunsploitation'\": 52265,\n \"'character'\": 34743,\n 'cambodia': 9880,\n 'rebelious': 52266,\n 'pasadena': 27657,\n 'crowne': 40932,\n \"'bedchamber\": 52267,\n 'conjectural': 52268,\n 'appologize': 52269,\n 'halfassing': 52270,\n 'paycheque': 57816,\n 'palms': 20606,\n \"'islands\": 52271,\n 'hawked': 40933,\n 'palme': 21919,\n 'conservatively': 40934,\n 'larp': 64007,\n 'palma': 5558,\n 'smelling': 21920,\n 'aragorn': 12998,\n 'hawker': 52272,\n 'hawkes': 52273,\n 'explosions': 3975,\n 'loren': 8059,\n \"pyle's\": 52274,\n 'shootout': 6704,\n \"mike's\": 18517,\n \"driscoll's\": 52275,\n 'cogsworth': 40935,\n \"britian's\": 52276,\n 'childs': 34744,\n \"portrait's\": 52277,\n 'chain': 3626,\n 'whoever': 2497,\n 'puttered': 52278,\n 'childe': 52279,\n 'maywether': 52280,\n 'chair': 3036,\n \"rance's\": 52281,\n 'machu': 34745,\n 'ballet': 4517,\n 'grapples': 34746,\n 'summerize': 76152,\n 'freelance': 30603,\n \"andrea's\": 52283,\n '\\x91very': 52284,\n 'coolidge': 45879,\n 'mache': 18518,\n 'balled': 52285,\n 'grappled': 40937,\n 'macha': 18519,\n 'underlining': 21921,\n 'macho': 5623,\n 'oversight': 19507,\n 'machi': 25257,\n 'verbally': 11311,\n 'tenacious': 21922,\n 'windshields': 40938,\n 'paychecks': 18557,\n 'jerk': 3396,\n \"good'\": 11931,\n 'prancer': 34748,\n 'prances': 21923,\n 'olympus': 52286,\n 'lark': 21924,\n 'embark': 10785,\n 'gloomy': 7365,\n 'jehaan': 52287,\n 'turaqui': 52288,\n \"child'\": 20607,\n 'locked': 2894,\n 'pranced': 52289,\n 'exact': 2588,\n 'unattuned': 52290,\n 'minute': 783,\n 'skewed': 16118,\n 'hodgins': 40940,\n 'skewer': 34749,\n 'think\\x85': 52291,\n 'rosenstein': 38765,\n 'helmit': 52292,\n 'wrestlemanias': 34750,\n 'hindered': 16826,\n \"martha's\": 30604,\n 'cheree': 52293,\n \"pluckin'\": 52294,\n 'ogles': 40941,\n 'heavyweight': 11932,\n 'aada': 82190,\n 'chopping': 11312,\n 'strongboy': 61534,\n 'hegemonic': 41342,\n 'adorns': 40942,\n 'xxth': 41346,\n 'nobuhiro': 34751,\n 'capitães': 52298,\n 'kavogianni': 52299,\n 'antwerp': 13422,\n 'celebrated': 6538,\n 'roarke': 52300,\n 'baggins': 40943,\n 'cheeseburgers': 31270,\n 'matras': 52301,\n \"nineties'\": 52302,\n \"'craig'\": 52303,\n 'celebrates': 12999,\n 'unintentionally': 3383,\n 'drafted': 14362,\n 'climby': 52304,\n '303': 52305,\n 'oldies': 18520,\n 'climbs': 9096,\n 'honour': 9655,\n 'plucking': 34752,\n '305': 30074,\n 'address': 5514,\n 'menjou': 40944,\n \"'freak'\": 42592,\n 'dwindling': 19508,\n 'benson': 9458,\n 'white’s': 52307,\n 'shamelessness': 40945,\n 'impacted': 21925,\n 'upatz': 52308,\n 'cusack': 3840,\n \"flavia's\": 37567,\n 'effette': 52309,\n 'influx': 34753,\n 'boooooooo': 52310,\n 'dimitrova': 52311,\n 'houseman': 13423,\n 'bigas': 25259,\n 'boylen': 52312,\n 'phillipenes': 52313,\n 'fakery': 40946,\n \"grandpa's\": 27658,\n 'darnell': 27659,\n 'undergone': 19509,\n 'handbags': 52315,\n 'perished': 21926,\n 'pooped': 37778,\n 'vigour': 27660,\n 'opposed': 3627,\n 'etude': 52316,\n \"caine's\": 11799,\n 'doozers': 52317,\n 'photojournals': 34754,\n 'perishes': 52318,\n 'constrains': 34755,\n 'migenes': 40948,\n 'consoled': 30605,\n 'alastair': 16827,\n 'wvs': 52319,\n 'ooooooh': 52320,\n 'approving': 34756,\n 'consoles': 40949,\n 'disparagement': 52064,\n 'futureistic': 52322,\n 'rebounding': 52323,\n \"'date\": 52324,\n 'gregoire': 52325,\n 'rutherford': 21927,\n 'americanised': 34757,\n 'novikov': 82196,\n 'following': 1042,\n 'munroe': 34758,\n \"morita'\": 52326,\n 'christenssen': 52327,\n 'oatmeal': 23106,\n 'fossey': 25260,\n 'livered': 40950,\n 'listens': 13000,\n \"'marci\": 76164,\n \"otis's\": 52330,\n 'thanking': 23387,\n 'maude': 16019,\n 'extensions': 34759,\n 'ameteurish': 52332,\n \"commender's\": 52333,\n 'agricultural': 27661,\n 'convincingly': 4518,\n 'fueled': 17639,\n 'mahattan': 54014,\n \"paris's\": 40952,\n 'vulkan': 52336,\n 'stapes': 52337,\n 'odysessy': 52338,\n 'harmon': 12259,\n 'surfing': 4252,\n 'halloran': 23494,\n 'unbelieveably': 49580,\n \"'offed'\": 52339,\n 'quadrant': 30607,\n 'inhabiting': 19510,\n 'nebbish': 34760,\n 'forebears': 40953,\n 'skirmish': 34761,\n 'ocassionally': 52340,\n \"'resist\": 52341,\n 'impactful': 21928,\n 'spicier': 52342,\n 'touristy': 40954,\n \"'football'\": 52343,\n 'webpage': 40955,\n 'exurbia': 52345,\n 'jucier': 52346,\n 'professors': 14901,\n 'structuring': 34762,\n 'jig': 30608,\n 'overlord': 40956,\n 'disconnect': 25261,\n 'sniffle': 82201,\n 'slimeball': 40957,\n 'jia': 40958,\n 'milked': 16828,\n 'banjoes': 40959,\n 'jim': 1237,\n 'workforces': 52348,\n 'jip': 52349,\n 'rotweiller': 52350,\n 'mundaneness': 34763,\n \"'ninja'\": 52351,\n \"dead'\": 11040,\n \"cipriani's\": 40960,\n 'modestly': 20608,\n \"professor'\": 52352,\n 'shacked': 40961,\n 'bashful': 34764,\n 'sorter': 23388,\n 'overpowering': 16120,\n 'workmanlike': 18521,\n 'henpecked': 27662,\n 'sorted': 18522,\n \"jōb's\": 52354,\n \"'always\": 52355,\n \"'baptists\": 34765,\n 'dreamcatchers': 52356,\n \"'silence'\": 52357,\n 'hickory': 21929,\n 'fun\\x97yet': 52358,\n 'breakumentary': 52359,\n 'didn': 15496,\n 'didi': 52360,\n 'pealing': 52361,\n 'dispite': 40962,\n \"italy's\": 25262,\n 'instability': 21930,\n 'quarter': 6539,\n 'quartet': 12608,\n 'padmé': 52362,\n \"'bleedmedry\": 52363,\n 'pahalniuk': 52364,\n 'honduras': 52365,\n 'bursting': 10786,\n \"pablo's\": 41465,\n 'irremediably': 52367,\n 'presages': 40963,\n 'bowlegged': 57832,\n 'dalip': 65183,\n 'entering': 6260,\n 'newsradio': 76172,\n 'presaged': 54150,\n \"giallo's\": 27663,\n 'bouyant': 40964,\n 'amerterish': 52368,\n 'rajni': 18523,\n 'leeves': 30610,\n 'macauley': 34767,\n 'seriously': 612,\n 'sugercoma': 52369,\n 'grimstead': 52370,\n \"'fairy'\": 52371,\n 'zenda': 30611,\n \"'twins'\": 52372,\n 'realisation': 17640,\n 'highsmith': 27664,\n 'raunchy': 7817,\n 'incentives': 40965,\n 'flatson': 52374,\n 'snooker': 35097,\n 'crazies': 16829,\n 'crazier': 14902,\n 'grandma': 7094,\n 'napunsaktha': 52375,\n 'workmanship': 30612,\n 'reisner': 52376,\n \"sanford's\": 61306,\n '\\x91doña': 52377,\n 'modest': 6108,\n \"everything's\": 19153,\n 'hamer': 40966,\n \"couldn't'\": 52379,\n 'quibble': 13001,\n 'socking': 52380,\n 'tingler': 21931,\n 'gutman': 52381,\n 'lachlan': 40967,\n 'tableaus': 52382,\n 'headbanger': 52383,\n 'spoken': 2847,\n 'cerebrally': 34768,\n \"'road\": 23490,\n 'tableaux': 21932,\n \"proust's\": 40968,\n 'periodical': 40969,\n \"shoveller's\": 52385,\n 'tamara': 25263,\n 'affords': 17641,\n 'concert': 3249,\n \"yara's\": 87955,\n 'someome': 52386,\n 'lingering': 8424,\n \"abraham's\": 41511,\n 'beesley': 34769,\n 'cherbourg': 34770,\n 'kagan': 28624,\n 'snatch': 9097,\n \"miyazaki's\": 9260,\n 'absorbs': 25264,\n \"koltai's\": 40970,\n 'tingled': 64027,\n 'crossroads': 19511,\n 'rehab': 16121,\n 'falworth': 52389,\n 'sequals': 52390,\n ...}"
          },
          "metadata": {}
        }
      ]
    },
    {
      "metadata": {},
      "cell_type": "markdown",
      "source": "<i>Dicionário mapeando palavras para inteiros.</i>"
    },
    {
      "metadata": {},
      "cell_type": "markdown",
      "source": "* Agora iremos fazer o reverso para que possamos ver o <b>texto original</b>."
    },
    {
      "metadata": {},
      "cell_type": "markdown",
      "source": "\nA tradução, levando em consideração que os caracteres de pontuação foram removidos:<br/><br/>\n<i>\"Esse filme foi simplesmente um cenário brilhante para o elenco, a direção da história, todo mundo realmente se encaixa no papel que eles representavam e você pode imaginar estar lá, robert? é um ator incrível e agora é o mesmo diretor? pai veio da mesma ilha escocesa que eu, então eu amei o fato de haver uma conexão real com este filme. As observações espirituosas ao longo do filme foram ótimas, foi tão brilhante que comprei o filme assim que foi lançado? e recomendaria a todos que assistissem e a pesca com mosca foi realmente incrível no final, foi tão triste e você sabe o que dizem se você chorar em um filme, deve ter sido bom e isso definitivamente também foi? para os dois garotinhos que jogaram? de norman e paul eles eram apenas crianças brilhantes são muitas vezes deixados de fora? Eu acho que porque as estrelas que as interpretam crescidas são um perfil tão grande para todo o filme, mas essas crianças são incríveis e devem ser elogiadas pelo que fizeram, você não acha que a história toda foi tão adorável porque era verdade? e era a vida de alguém depois de tudo o que foi compartilhado com todos nós.\"</i>"
    },
    {
      "metadata": {
        "trusted": true
      },
      "cell_type": "code",
      "source": "word_dict = imdb.get_word_index()\nword_dict = { key:(value + 3) for key, value in word_dict.items() }\nword_dict[''] = 0  # preenchimento\nword_dict['>'] = 1 # início\nword_dict['?'] = 2 # palavra desconhecida\nreverse_word_dict = { value:key for key, value in word_dict.items() }\nprint(' '.join(reverse_word_dict[id] for id in x_train[0]))",
      "execution_count": 107,
      "outputs": [
        {
          "output_type": "stream",
          "text": "> this film was just brilliant casting location scenery story direction everyone's really suited the part they played and you could just imagine being there robert ? is an amazing actor and now the same being director ? father came from the same scottish island as myself so i loved the fact there was a real connection with this film the witty remarks throughout the film were great it was just brilliant so much that i bought the film as soon as it was released for ? and would recommend it to everyone to watch and the fly fishing was amazing really cried at the end it was so sad and you know what they say if you cry at a film it must have been good and this definitely was also ? to the two little boy's that played the ? of norman and paul they were just brilliant children are often left out of the ? list i think because the stars that play them all grown up are such a big profile for the whole film but these children are amazing and should be praised for what they have done don't you think the whole story was so lovely because it was true and was someone's life after all that was shared with us all\n",
          "name": "stdout"
        }
      ]
    },
    {
      "metadata": {},
      "cell_type": "markdown",
      "source": "<i>A primeira revisão em formato textual.</i>"
    },
    {
      "metadata": {},
      "cell_type": "markdown",
      "source": "<br/>A seguir irei codificar uma função que usa lista de listas como entrada e converte as listas internas para um comprimento específico, truncando-as se necessário ou preenchendo-as com 0s. A execução irá forçar todas as listras que repreentam as resenhas de <i>x_train</i> e <i>x_test</i> para um comprimento de 500 inteiros."
    },
    {
      "metadata": {
        "trusted": true
      },
      "cell_type": "code",
      "source": "from keras.preprocessing import sequence\nmax_review_length = 500\nx_train = sequence.pad_sequences(x_train, maxlen=max_review_length)\nx_test = sequence.pad_sequences(x_test, maxlen=max_review_length)",
      "execution_count": 108,
      "outputs": []
    },
    {
      "metadata": {},
      "cell_type": "markdown",
      "source": "<br/> \n### Depois de preparar os dados de treinamento é hora de criar o modelo!\nApos a execução do código será criada uma rede neural para análise de sentimento:\n"
    },
    {
      "metadata": {
        "trusted": true
      },
      "cell_type": "code",
      "source": "from keras.models import Sequential\nfrom keras.layers import Dense\nfrom keras.layers.embeddings import Embedding\nfrom keras.layers import Flatten\n\nembedding_vector_length = 32\nmodel = Sequential()\nmodel.add(Embedding(top_words, embedding_vector_length, input_length=max_review_length))\nmodel.add(Flatten())\nmodel.add(Dense(16, activation='relu'))\nmodel.add(Dense(16, activation='relu'))\nmodel.add(Dense(1, activation='sigmoid'))\nmodel.compile(loss='binary_crossentropy',optimizer='adam', metrics=['accuracy'])\nprint(model.summary())",
      "execution_count": 109,
      "outputs": [
        {
          "output_type": "stream",
          "text": "Model: \"sequential_7\"\n_________________________________________________________________\nLayer (type)                 Output Shape              Param #   \n=================================================================\nembedding_7 (Embedding)      (None, 500, 32)           320000    \n_________________________________________________________________\nflatten_7 (Flatten)          (None, 16000)             0         \n_________________________________________________________________\ndense_19 (Dense)             (None, 16)                256016    \n_________________________________________________________________\ndense_20 (Dense)             (None, 16)                272       \n_________________________________________________________________\ndense_21 (Dense)             (None, 1)                 17        \n=================================================================\nTotal params: 576,305\nTrainable params: 576,305\nNon-trainable params: 0\n_________________________________________________________________\nNone\n",
          "name": "stdout"
        }
      ]
    },
    {
      "metadata": {},
      "cell_type": "markdown",
      "source": "<i>Criando uma rede neural com o Keras</i>\n\n* **Embedding**: camada de incorporação, mapeia matrizes multidimensionais que contém índices de palavra números inteiros em matrizes de <i>ponto flutuante</i> que contém <b>menos</b> dimensões; ela também permite que palavras com significados semelhantes sejam tratadas de modo parecido.\n* **Flatten**: essa chamada após o <i>embedding</i> redimensiona a saída para a entrada da próxima camada.\n* **Dense**: as próximas três camadas adicionadas ao modelo são camadas densas, também conhecidas como camadas <i>totalmente conectadas</i>. Essas camadas que permitem a uma rede neural \"aprender\" com os dados de entrada adivinhando iterativamente a saída, verificando os resultados e ajustando as conexões para produzir melhores resultados. <br/>As duas primeiras camadas densas contém 16 neurônios. Esse número foi escolhido arbitrariamente; a camada densa final contém apenas um neurônio porque a meta final da rede é prever uma saída, ou seja, uma pontuação de sentimento de 0,0 a 0,1.\n\n"
    },
    {
      "metadata": {},
      "cell_type": "markdown",
      "source": "### Treinando a Rede Neural\n"
    },
    {
      "metadata": {},
      "cell_type": "markdown",
      "source": "O <i>epoche</i> informa ao Keras para dar 5 passos para frente e para trás no modelo. A cada passagem o modelo aprende com os dados de treinamento e valida quão bem ele aprendeu usando os dados de teste. Em seguida, ele faz ajustes e volta para a próxima passagem. \n\nIsso é refletido na saída da função <i>fit</i>, que mostra a precisão de treinamento (<i>acc</i>) e a precisão de validação (<i>val_acc</i>) de cada época.\n\nSão usados 128 exemplos simultaneamente para treinar a rede. Tamanhos de lotes maiores aceleram o aprendizado (menos passagens são necessárias em cada época), mas lotes menores, às vezes, aumentam a precisão."
    },
    {
      "metadata": {
        "trusted": true
      },
      "cell_type": "code",
      "source": "hist = model.fit(x_train, y_train, validation_data=(x_test, y_test), epochs=5, batch_size=128)",
      "execution_count": 110,
      "outputs": [
        {
          "output_type": "stream",
          "text": "/home/nbuser/anaconda3_501/lib/python3.6/site-packages/tensorflow/python/framework/indexed_slices.py:414: UserWarning: Converting sparse IndexedSlices to a dense Tensor of unknown shape. This may consume a large amount of memory.\n  \"Converting sparse IndexedSlices to a dense Tensor of unknown shape. \"\n/home/nbuser/anaconda3_501/lib/python3.6/site-packages/tensorflow/python/framework/indexed_slices.py:414: UserWarning: Converting sparse IndexedSlices to a dense Tensor of unknown shape. This may consume a large amount of memory.\n  \"Converting sparse IndexedSlices to a dense Tensor of unknown shape. \"\n",
          "name": "stderr"
        },
        {
          "output_type": "stream",
          "text": "Train on 25000 samples, validate on 25000 samples\nEpoch 1/5\n25000/25000 [==============================] - 12s 483us/step - loss: 0.5235 - accuracy: 0.7141 - val_loss: 0.3162 - val_accuracy: 0.8618\nEpoch 2/5\n25000/25000 [==============================] - 12s 463us/step - loss: 0.2122 - accuracy: 0.9186 - val_loss: 0.2795 - val_accuracy: 0.8824\nEpoch 3/5\n25000/25000 [==============================] - 12s 476us/step - loss: 0.1062 - accuracy: 0.9665 - val_loss: 0.3178 - val_accuracy: 0.8768\nEpoch 4/5\n25000/25000 [==============================] - 12s 472us/step - loss: 0.0406 - accuracy: 0.9913 - val_loss: 0.3624 - val_accuracy: 0.8739\nEpoch 5/5\n25000/25000 [==============================] - 13s 540us/step - loss: 0.0141 - accuracy: 0.9983 - val_loss: 0.4056 - val_accuracy: 0.8740\n",
          "name": "stdout"
        }
      ]
    },
    {
      "metadata": {},
      "cell_type": "markdown",
      "source": "<i>Treinamento do modelo.</i>"
    },
    {
      "metadata": {},
      "cell_type": "markdown",
      "source": "O gráfio a seguir é uma comparação entre a precisão de treinamento e de validação conforme o treino prossegue:"
    },
    {
      "metadata": {
        "trusted": true
      },
      "cell_type": "code",
      "source": "import seaborn as sns\nimport matplotlib.pyplot as plt\n%matplotlib inline\n\nsns.set()\nacc = hist.history['accuracy']\nval = hist.history['val_accuracy']\nepochs = range(1, len(acc) + 1)\n\nplt.plot(epochs, acc, '-', label='Precisão de treinamento')\nplt.plot(epochs, val, ':', label='Precisão de validação')\nplt.title('Precisão de treinamento e validação')\nplt.xlabel('Época')\nplt.ylabel('Precisão')\nplt.legend(loc='lower right')\nplt.plot()",
      "execution_count": 111,
      "outputs": [
        {
          "output_type": "execute_result",
          "execution_count": 111,
          "data": {
            "text/plain": "[]"
          },
          "metadata": {}
        },
        {
          "output_type": "display_data",
          "data": {
            "image/png": "[encoded data removed]",
            "text/plain": "<Figure size 432x288 with 1 Axes>"
          },
          "metadata": {}
        }
      ]
    },
    {
      "metadata": {},
      "cell_type": "markdown",
      "source": "<i>Perda de treinamento e de validação.</i>"
    },
    {
      "metadata": {},
      "cell_type": "markdown",
      "source": "* A seguir será executado um modelo para determinar com que <b>exatidão</b> o modelo é capaz de quantificar o sentimento expresso em texto com base nos dados de teste:"
    },
    {
      "metadata": {
        "trusted": true
      },
      "cell_type": "code",
      "source": "scores = model.evaluate(x_test, y_test, verbose=0)\nprint(\"Accuracy: %.2f%%\" % (scores[1] * 100))",
      "execution_count": 112,
      "outputs": [
        {
          "output_type": "stream",
          "text": "Accuracy: 87.40%\n",
          "name": "stdout"
        }
      ]
    },
    {
      "metadata": {},
      "cell_type": "markdown",
      "source": "<i>86% é uma precisão aceitável, considerando que criamos o modelo do zero (em vez de usar uma rede neural pré-treinada) e que o tempo de treinamento foi curto.</i>"
    },
    {
      "metadata": {},
      "cell_type": "markdown",
      "source": "### Exemplos Práticos\nO teste é feito quando eu escrevo uma resenha, em inglês, no modelo e eu vejo o quão capaz ele é de quantificar o sentimento expresso no texto. \nPor mais que eu não tenha conseguido chegar a 100% de precisão, esse modelo é capaz de analisar uma imensa quantidade de sentimentos em uma simples resenha cinematográfica. \n\n<i>Como acontece essa análise?</i>\nA seguir tem uma função de Python que aceita uma cadeia de caracteres de texto como <b>entrada</b>, passa-a para o modelo e retorna uma pontuação, de 0 a 1, quantificando o sentimento expresso.\nQuanto maior o número, mais positivo o sentimento."
    },
    {
      "metadata": {
        "trusted": true
      },
      "cell_type": "code",
      "source": "import string\nimport numpy as np\n\ndef analyze(text):\n   \n    translator = str.maketrans('', '', string.punctuation)\n    text = text.translate(translator)\n    text = text.lower().split(' ')\n    text = [word for word in text if word.isalpha()]\n\n    \n    input = [1]\n    for word in text:\n        if word in word_dict and word_dict[word] < top_words:\n            input.append(word_dict[word])\n        else:\n            input.append(2)\n    padded_input = sequence.pad_sequences([input], maxlen=max_review_length)\n\n    \n    result = model.predict(np.array([padded_input][0]))[0][0]\n    return result",
      "execution_count": 116,
      "outputs": []
    },
    {
      "metadata": {
        "trusted": true
      },
      "cell_type": "code",
      "source": "# tradução: as longas filas e o mau atendimento ao cliente realmente me impediram.\nanalyze('The long lines and poor customer service really turned me off.')",
      "execution_count": 117,
      "outputs": [
        {
          "output_type": "execute_result",
          "execution_count": 117,
          "data": {
            "text/plain": "0.15859762"
          },
          "metadata": {}
        }
      ]
    },
    {
      "metadata": {
        "trusted": true
      },
      "cell_type": "code",
      "source": "#tradução: O filme mais emocionante que eu já vi.\nanalyze('The most exciting film I have ever seen.')",
      "execution_count": 118,
      "outputs": [
        {
          "output_type": "execute_result",
          "execution_count": 118,
          "data": {
            "text/plain": "0.9188538"
          },
          "metadata": {}
        }
      ]
    },
    {
      "metadata": {
        "trusted": true
      },
      "cell_type": "code",
      "source": "# tradução: este filme é totalmente sem noção.\nanalyze('This film is totally clueless.')",
      "execution_count": 119,
      "outputs": [
        {
          "output_type": "execute_result",
          "execution_count": 119,
          "data": {
            "text/plain": "0.59756154"
          },
          "metadata": {}
        }
      ]
    },
    {
      "metadata": {
        "trusted": true
      },
      "cell_type": "code",
      "source": "# tradução: coringa é perturbador. Comovente. Fantástico. O melhor trabalho de Joaquin Phoenix. Não é sorumbático somente, mas é um prêmio para nós espectadores.\nanalyze('Joker is disturbing. Heart touching. Fantastic. Joaquin Phoenixs best work. It is not only sad, but it is a prize for us spectators.')",
      "execution_count": 120,
      "outputs": [
        {
          "output_type": "execute_result",
          "execution_count": 120,
          "data": {
            "text/plain": "0.9758488"
          },
          "metadata": {}
        }
      ]
    },
    {
      "metadata": {
        "trusted": true
      },
      "cell_type": "markdown",
      "source": "O último exemplo apesar de mais complexo conseguiu tirar a essência do comentário e transformá-lo em quase 1, que é o máximo."
    },
    {
      "metadata": {
        "trusted": true
      },
      "cell_type": "code",
      "source": "",
      "execution_count": null,
      "outputs": []
    }
  ],
  "metadata": {
    "kernelspec": {
      "name": "python36",
      "display_name": "Python 3.6",
      "language": "python"
    },
    "language_info": {
      "mimetype": "text/x-python",
      "nbconvert_exporter": "python",
      "name": "python",
      "pygments_lexer": "ipython3",
      "version": "3.6.6",
      "file_extension": ".py",
      "codemirror_mode": {
        "version": 3,
        "name": "ipython"
      }
    }
  },
  "nbformat": 4,
  "nbformat_minor": 2
}